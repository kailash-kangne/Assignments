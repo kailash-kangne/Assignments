{
 "cells": [
  {
   "cell_type": "markdown",
   "id": "fd2949c5",
   "metadata": {},
   "source": [
    "1. Write a Python Program to Check if a Number is Positive, Negative or Zero?\n",
    "2. Write a Python Program to Check if a Number is Odd or Even?\n",
    "3. Write a Python Program to Check Leap Year?\n",
    "4. Write a Python Program to Check Prime Number?\n",
    "5. Write a Python Program to Print all Prime Numbers in an Interval of 1-10000?"
   ]
  },
  {
   "cell_type": "code",
   "execution_count": 3,
   "id": "894aa76a",
   "metadata": {},
   "outputs": [
    {
     "data": {
      "text/plain": [
       "'negative'"
      ]
     },
     "execution_count": 3,
     "metadata": {},
     "output_type": "execute_result"
    }
   ],
   "source": [
    "#q1\n",
    "\n",
    "def p0n(n):\n",
    "    if n>0:\n",
    "        return \"positive\"\n",
    "    elif n==0:\n",
    "        return \"zero\"\n",
    "    else:\n",
    "        return \"negative\"\n",
    "    \n",
    "p0n(-7)"
   ]
  },
  {
   "cell_type": "code",
   "execution_count": 6,
   "id": "f3a598a9",
   "metadata": {},
   "outputs": [
    {
     "data": {
      "text/plain": [
       "'even'"
      ]
     },
     "execution_count": 6,
     "metadata": {},
     "output_type": "execute_result"
    }
   ],
   "source": [
    "#q2\n",
    "\n",
    "def oddeven(n):\n",
    "    if n%2:\n",
    "        return \"odd\"\n",
    "    else:\n",
    "        return \"even\"\n",
    "\n",
    "oddeven(8)"
   ]
  },
  {
   "cell_type": "code",
   "execution_count": 7,
   "id": "61fbc4a4",
   "metadata": {},
   "outputs": [
    {
     "name": "stdout",
     "output_type": "stream",
     "text": [
      "leap year\n"
     ]
    }
   ],
   "source": [
    "#q3\n",
    "\n",
    "def leap(n):\n",
    "    if (n%4==0 and n%100!=0) or (n%400==0):\n",
    "        print(\"leap year\")\n",
    "    else:\n",
    "        print(\"not a leap year\")\n",
    "        \n",
    "leap(2008)"
   ]
  },
  {
   "cell_type": "code",
   "execution_count": 17,
   "id": "8a42853f",
   "metadata": {},
   "outputs": [
    {
     "data": {
      "text/plain": [
       "True"
      ]
     },
     "execution_count": 17,
     "metadata": {},
     "output_type": "execute_result"
    }
   ],
   "source": [
    "#q4\n",
    "\n",
    "def prime(n):\n",
    "    if n%2==0 and n!=2:\n",
    "        return False\n",
    "    for i in range(3,n//2,2):\n",
    "        if n%i==0:\n",
    "            return False\n",
    "    return True\n",
    "\n",
    "prime(7)\n",
    "        "
   ]
  },
  {
   "cell_type": "code",
   "execution_count": 18,
   "id": "620183d5",
   "metadata": {},
   "outputs": [
    {
     "name": "stdout",
     "output_type": "stream",
     "text": [
      "2 3 5 7 11 13 17 19 23 29 31 37 41 43 47 53 59 61 67 71 73 79 83 89 97 101 103 107 109 113 127 131 137 139 149 151 157 163 167 173 179 181 191 193 197 199 211 223 227 229 233 239 241 251 257 263 269 271 277 281 283 293 307 311 313 317 331 337 347 349 353 359 367 373 379 383 389 397 401 409 419 421 431 433 439 443 449 457 461 463 467 479 487 491 499 503 509 521 523 541 547 557 563 569 571 577 587 593 599 601 607 613 617 619 631 641 643 647 653 659 661 673 677 683 691 701 709 719 727 733 739 743 751 757 761 769 773 787 797 809 811 821 823 827 829 839 853 857 859 863 877 881 883 887 907 911 919 929 937 941 947 953 967 971 977 983 991 997 "
     ]
    }
   ],
   "source": [
    "#q5\n",
    "\n",
    "for i in range(2,1000):\n",
    "    if prime(i)==True:\n",
    "        print(i, end=\" \")"
   ]
  },
  {
   "cell_type": "code",
   "execution_count": null,
   "id": "0f031061",
   "metadata": {},
   "outputs": [],
   "source": []
  }
 ],
 "metadata": {
  "kernelspec": {
   "display_name": "Python 3 (ipykernel)",
   "language": "python",
   "name": "python3"
  },
  "language_info": {
   "codemirror_mode": {
    "name": "ipython",
    "version": 3
   },
   "file_extension": ".py",
   "mimetype": "text/x-python",
   "name": "python",
   "nbconvert_exporter": "python",
   "pygments_lexer": "ipython3",
   "version": "3.9.12"
  }
 },
 "nbformat": 4,
 "nbformat_minor": 5
}
