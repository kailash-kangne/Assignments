{
 "cells": [
  {
   "cell_type": "code",
   "execution_count": 2,
   "id": "0a6c8170",
   "metadata": {},
   "outputs": [
    {
     "data": {
      "text/plain": [
       "2"
      ]
     },
     "execution_count": 2,
     "metadata": {},
     "output_type": "execute_result"
    }
   ],
   "source": [
    "#q1\n",
    "\n",
    "def equal(a,b,c):\n",
    "    if a==b and b==c:\n",
    "        return 3\n",
    "    elif a==b or b==c or a==c:\n",
    "        return 2\n",
    "    else:\n",
    "        return 0\n",
    "    \n",
    "equal(9,9,5)"
   ]
  },
  {
   "cell_type": "code",
   "execution_count": 53,
   "id": "5746bab7",
   "metadata": {},
   "outputs": [
    {
     "data": {
      "text/plain": [
       "[('ant', 2), ('bat', 5), ('dog', 3), ('fish', 8)]"
      ]
     },
     "execution_count": 53,
     "metadata": {},
     "output_type": "execute_result"
    }
   ],
   "source": [
    "#q2\n",
    "\n",
    "def d2l(d):\n",
    "    \n",
    "    l=[]\n",
    "    \n",
    "    for i in d:\n",
    "        l.append((i,d[i]))\n",
    "    \n",
    "    l.sort()\n",
    "    \n",
    "    return l\n",
    "\n",
    "d={\"bat\":5,\"fish\":8,\"ant\":2,\"dog\":3}\n",
    "d2l(d)"
   ]
  },
  {
   "cell_type": "code",
   "execution_count": 15,
   "id": "496207ef",
   "metadata": {},
   "outputs": [
    {
     "data": {
      "text/plain": [
       "{'a': 'A', 'j': 'J'}"
      ]
     },
     "execution_count": 15,
     "metadata": {},
     "output_type": "execute_result"
    }
   ],
   "source": [
    "#q3\n",
    "\n",
    "def mapping(l):\n",
    "    \n",
    "    d={}\n",
    "    for i in l:\n",
    "        d[i]=i.upper()\n",
    "    return d\n",
    "    \n",
    "mapping(['a','j'])\n"
   ]
  },
  {
   "cell_type": "code",
   "execution_count": 47,
   "id": "a0fdc56b",
   "metadata": {},
   "outputs": [
    {
     "data": {
      "text/plain": [
       "'upplu und bununus'"
      ]
     },
     "execution_count": 47,
     "metadata": {},
     "output_type": "execute_result"
    }
   ],
   "source": [
    "#q4\n",
    "\n",
    "def vow_replace(s,c):\n",
    "    \n",
    "    v=['a','e','i','o','u']\n",
    "    for i in v :\n",
    "        s= s.replace(i,c)\n",
    "    return s\n",
    "        \n",
    "vow_replace(\"apple and bananas\",'u')    "
   ]
  },
  {
   "cell_type": "code",
   "execution_count": 50,
   "id": "763c4e7d",
   "metadata": {},
   "outputs": [
    {
     "data": {
      "text/plain": [
       "'oH wHaT a BeauTiFuL moRNiNg.'"
      ]
     },
     "execution_count": 50,
     "metadata": {},
     "output_type": "execute_result"
    }
   ],
   "source": [
    "#q5\n",
    "\n",
    "def ascii_capitalize(s):\n",
    "    for i in s:\n",
    "        if ord(i)%2==0:\n",
    "            s=s.replace(i,i.upper())\n",
    "        else:\n",
    "            s=s.replace(i,i.lower())\n",
    "    return s\n",
    "    \n",
    "ascii_capitalize(\"Oh what a beautiful morning.\")"
   ]
  },
  {
   "cell_type": "code",
   "execution_count": null,
   "id": "62de860d",
   "metadata": {},
   "outputs": [],
   "source": []
  }
 ],
 "metadata": {
  "kernelspec": {
   "display_name": "Python 3 (ipykernel)",
   "language": "python",
   "name": "python3"
  },
  "language_info": {
   "codemirror_mode": {
    "name": "ipython",
    "version": 3
   },
   "file_extension": ".py",
   "mimetype": "text/x-python",
   "name": "python",
   "nbconvert_exporter": "python",
   "pygments_lexer": "ipython3",
   "version": "3.9.12"
  }
 },
 "nbformat": 4,
 "nbformat_minor": 5
}
