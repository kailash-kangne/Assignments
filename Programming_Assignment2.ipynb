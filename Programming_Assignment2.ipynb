{
 "cells": [
  {
   "cell_type": "markdown",
   "id": "b7c06291",
   "metadata": {},
   "source": [
    "1. Write a Python program to convert kilometers to miles?\n",
    "2. Write a Python program to convert Celsius to Fahrenheit?\n",
    "3. Write a Python program to display calendar?\n",
    "4. Write a Python program to solve quadratic equation?\n",
    "5. Write a Python program to swap two variables without temp variable?"
   ]
  },
  {
   "cell_type": "code",
   "execution_count": 1,
   "id": "19e94dfa",
   "metadata": {},
   "outputs": [
    {
     "data": {
      "text/plain": [
       "3.106855"
      ]
     },
     "execution_count": 1,
     "metadata": {},
     "output_type": "execute_result"
    }
   ],
   "source": [
    "#q1\n",
    "\n",
    "def k2m(k):\n",
    "    return 0.621371*k\n",
    "\n",
    "k2m(5)"
   ]
  },
  {
   "cell_type": "code",
   "execution_count": 2,
   "id": "fa0e3660",
   "metadata": {},
   "outputs": [
    {
     "data": {
      "text/plain": [
       "68.0"
      ]
     },
     "execution_count": 2,
     "metadata": {},
     "output_type": "execute_result"
    }
   ],
   "source": [
    "#q2\n",
    "\n",
    "def c2f(c):\n",
    "    return 9/5*c+32\n",
    "\n",
    "c2f(20)"
   ]
  },
  {
   "cell_type": "code",
   "execution_count": 6,
   "id": "a60cc772",
   "metadata": {},
   "outputs": [
    {
     "name": "stdout",
     "output_type": "stream",
     "text": [
      "     June 2022\n",
      "Mo Tu We Th Fr Sa Su\n",
      "       1  2  3  4  5\n",
      " 6  7  8  9 10 11 12\n",
      "13 14 15 16 17 18 19\n",
      "20 21 22 23 24 25 26\n",
      "27 28 29 30\n",
      "\n"
     ]
    }
   ],
   "source": [
    "#q3\n",
    "\n",
    "import calendar\n",
    "\n",
    "print(calendar.month(2022, 6)) "
   ]
  },
  {
   "cell_type": "code",
   "execution_count": 16,
   "id": "c82149dc",
   "metadata": {},
   "outputs": [
    {
     "data": {
      "text/plain": [
       "((3-2.6457513110645907j), (3+2.6457513110645907j))"
      ]
     },
     "execution_count": 16,
     "metadata": {},
     "output_type": "execute_result"
    }
   ],
   "source": [
    "#q4\n",
    "import cmath\n",
    "\n",
    "def quadratic(a,b,c):  \n",
    "    d = (b**2) - (4*a*c)\n",
    "    s1 = (-b-cmath.sqrt(d))/(2*a)  \n",
    "    s2 = (-b+cmath.sqrt(d))/(2*a)\n",
    "    return s1,s2\n",
    "\n",
    "quadratic(1,-6,16)"
   ]
  },
  {
   "cell_type": "code",
   "execution_count": 9,
   "id": "0f58dcdf",
   "metadata": {},
   "outputs": [
    {
     "data": {
      "text/plain": [
       "(9, 6)"
      ]
     },
     "execution_count": 9,
     "metadata": {},
     "output_type": "execute_result"
    }
   ],
   "source": [
    "#Q5\n",
    "\n",
    "def swap(a,b):\n",
    "    a,b=b,a\n",
    "    return a,b\n",
    "\n",
    "swap(6,9)"
   ]
  }
 ],
 "metadata": {
  "kernelspec": {
   "display_name": "Python 3 (ipykernel)",
   "language": "python",
   "name": "python3"
  },
  "language_info": {
   "codemirror_mode": {
    "name": "ipython",
    "version": 3
   },
   "file_extension": ".py",
   "mimetype": "text/x-python",
   "name": "python",
   "nbconvert_exporter": "python",
   "pygments_lexer": "ipython3",
   "version": "3.9.12"
  }
 },
 "nbformat": 4,
 "nbformat_minor": 5
}
