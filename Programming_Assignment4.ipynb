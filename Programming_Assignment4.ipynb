{
 "cells": [
  {
   "cell_type": "markdown",
   "id": "548e0fd7",
   "metadata": {},
   "source": [
    "1. Write a Python Program to Find the Factorial of a Number?\n",
    "2. Write a Python Program to Display the multiplication Table?\n",
    "3. Write a Python Program to Print the Fibonacci sequence?\n",
    "4. Write a Python Program to Check Armstrong Number?\n",
    "5. Write a Python Program to Find Armstrong Number in an Interval?\n",
    "6. Write a Python Program to Find the Sum of Natural Numbers?"
   ]
  },
  {
   "cell_type": "code",
   "execution_count": 22,
   "id": "3125e933",
   "metadata": {},
   "outputs": [
    {
     "data": {
      "text/plain": [
       "120"
      ]
     },
     "execution_count": 22,
     "metadata": {},
     "output_type": "execute_result"
    }
   ],
   "source": [
    "#q1\n",
    "\n",
    "def fact(n):\n",
    "    f=1\n",
    "    for i in range(1,n+1):\n",
    "        f*=i\n",
    "    return f\n",
    "\n",
    "fact(5)"
   ]
  },
  {
   "cell_type": "code",
   "execution_count": 5,
   "id": "83855fb1",
   "metadata": {},
   "outputs": [
    {
     "name": "stdout",
     "output_type": "stream",
     "text": [
      "9  *  1  =  9 \n",
      "\n",
      "9  *  2  =  18 \n",
      "\n",
      "9  *  3  =  27 \n",
      "\n",
      "9  *  4  =  36 \n",
      "\n",
      "9  *  5  =  45 \n",
      "\n",
      "9  *  6  =  54 \n",
      "\n",
      "9  *  7  =  63 \n",
      "\n",
      "9  *  8  =  72 \n",
      "\n",
      "9  *  9  =  81 \n",
      "\n",
      "9  *  10  =  90 \n",
      "\n"
     ]
    }
   ],
   "source": [
    "#Q2+\n",
    "\n",
    "def mul(n):\n",
    "    for i in range(1,11):\n",
    "        print(n,\" * \",i,\" = \",n*i,\"\\n\")\n",
    "        \n",
    "        \n",
    "mul(9)"
   ]
  },
  {
   "cell_type": "code",
   "execution_count": 4,
   "id": "eaf3d12d",
   "metadata": {},
   "outputs": [
    {
     "name": "stdout",
     "output_type": "stream",
     "text": [
      "1 1 2 3 5 8 13 21 34 55 "
     ]
    }
   ],
   "source": [
    "#q3\n",
    "\n",
    "def fib(n):\n",
    "    a=1\n",
    "    b=1\n",
    "    for i in range(n):\n",
    "        print(a, end=' ')\n",
    "        t=a\n",
    "        a=b\n",
    "        b+=t\n",
    "\n",
    "fib(10)"
   ]
  },
  {
   "cell_type": "code",
   "execution_count": 16,
   "id": "dcfd7d33",
   "metadata": {},
   "outputs": [
    {
     "data": {
      "text/plain": [
       "False"
      ]
     },
     "execution_count": 16,
     "metadata": {},
     "output_type": "execute_result"
    }
   ],
   "source": [
    "#q4\n",
    "\n",
    "def armstrong(n):\n",
    "    s=0\n",
    "    n2=n\n",
    "    while n!=0:\n",
    "        r=n%10\n",
    "        s+=r**3\n",
    "        n//=10\n",
    "    if s==n2:\n",
    "        return True\n",
    "    return False\n",
    "\n",
    "armstrong(6)\n",
    "    "
   ]
  },
  {
   "cell_type": "code",
   "execution_count": 15,
   "id": "f56bc1db",
   "metadata": {},
   "outputs": [
    {
     "name": "stdout",
     "output_type": "stream",
     "text": [
      "0 1 153 370 371 407 "
     ]
    }
   ],
   "source": [
    "#q5\n",
    "\n",
    "def armstrong_interval(n):\n",
    "    for i in range(n):\n",
    "        if armstrong(i)==True:\n",
    "            print(i, end=\" \")\n",
    "\n",
    "armstrong_interval(1000)"
   ]
  },
  {
   "cell_type": "code",
   "execution_count": 19,
   "id": "49be557d",
   "metadata": {},
   "outputs": [
    {
     "data": {
      "text/plain": [
       "36"
      ]
     },
     "execution_count": 19,
     "metadata": {},
     "output_type": "execute_result"
    }
   ],
   "source": [
    "#q6\n",
    "\n",
    "def sum_all(n):\n",
    "    if n==0:\n",
    "        return n\n",
    "    return n+sum_all(n-1)\n",
    "    \n",
    "sum_all(8)"
   ]
  },
  {
   "cell_type": "code",
   "execution_count": null,
   "id": "ac12063d",
   "metadata": {},
   "outputs": [],
   "source": []
  }
 ],
 "metadata": {
  "kernelspec": {
   "display_name": "Python 3 (ipykernel)",
   "language": "python",
   "name": "python3"
  },
  "language_info": {
   "codemirror_mode": {
    "name": "ipython",
    "version": 3
   },
   "file_extension": ".py",
   "mimetype": "text/x-python",
   "name": "python",
   "nbconvert_exporter": "python",
   "pygments_lexer": "ipython3",
   "version": "3.9.12"
  }
 },
 "nbformat": 4,
 "nbformat_minor": 5
}
