{
 "cells": [
  {
   "cell_type": "markdown",
   "id": "e12a93d0",
   "metadata": {},
   "source": [
    "1. Write a Python Program to Find LCM?\n",
    "2. Write a Python Program to Find HCF?\n",
    "3. Write a Python Program to Convert Decimal to Binary, Octal and Hexadecimal?\n",
    "4. Write a Python Program To Find ASCII value of a character?\n",
    "5. Write a Python Program to Make a Simple Calculator with 4 basic mathematical operations?"
   ]
  },
  {
   "cell_type": "code",
   "execution_count": 1,
   "id": "70ee3ab1",
   "metadata": {},
   "outputs": [
    {
     "data": {
      "text/plain": [
       "216"
      ]
     },
     "execution_count": 1,
     "metadata": {},
     "output_type": "execute_result"
    }
   ],
   "source": [
    "#q1\n",
    "\n",
    "def lcm(a,b):\n",
    "    m1=a\n",
    "    m2=b\n",
    "    while m1!=m2:\n",
    "        if m1>m2:\n",
    "            m2+=b\n",
    "        else:\n",
    "            m1+=a\n",
    "    return m1\n",
    "\n",
    "lcm(54,24)"
   ]
  },
  {
   "cell_type": "code",
   "execution_count": 3,
   "id": "a33df478",
   "metadata": {},
   "outputs": [
    {
     "name": "stdout",
     "output_type": "stream",
     "text": [
      "7\n"
     ]
    }
   ],
   "source": [
    "#q2\n",
    "\n",
    "def hcf(a,b):\n",
    "    if a<b:\n",
    "        a,b=b,a\n",
    "    g1=a\n",
    "    g2=b\n",
    "    while 1:\n",
    "        r=g1-g2\n",
    "        if g1%r==0 and g2%r==0:\n",
    "            print(r)\n",
    "            break\n",
    "        g1=g2\n",
    "        g2=r\n",
    "        \n",
    "hcf(63,56)"
   ]
  },
  {
   "cell_type": "code",
   "execution_count": 6,
   "id": "8b09b175",
   "metadata": {},
   "outputs": [
    {
     "name": "stdout",
     "output_type": "stream",
     "text": [
      " dec =  34 \n",
      " bin =  0b100010 \n",
      " oct =  0o42 \n",
      " hex =  0x22\n"
     ]
    }
   ],
   "source": [
    "#q3\n",
    "\n",
    "def boh(n):\n",
    "    print(\" dec = \",n,\"\\n bin = \",bin(n),'\\n oct = ',oct(n),'\\n hex = ',hex(n))\n",
    "    \n",
    "boh(34)"
   ]
  },
  {
   "cell_type": "code",
   "execution_count": 12,
   "id": "ac12e5ce",
   "metadata": {},
   "outputs": [
    {
     "data": {
      "text/plain": [
       "72"
      ]
     },
     "execution_count": 12,
     "metadata": {},
     "output_type": "execute_result"
    }
   ],
   "source": [
    "#q4\n",
    "\n",
    "def asc(n):\n",
    "    return ord(n)\n",
    "\n",
    "asc('H')"
   ]
  },
  {
   "cell_type": "code",
   "execution_count": 21,
   "id": "a909a228",
   "metadata": {},
   "outputs": [
    {
     "data": {
      "text/plain": [
       "464"
      ]
     },
     "execution_count": 21,
     "metadata": {},
     "output_type": "execute_result"
    }
   ],
   "source": [
    "#q5\n",
    "\n",
    "def calc(a,o,b):\n",
    "    if o=='+':\n",
    "        return a+b\n",
    "    elif o=='-':\n",
    "        return a-b\n",
    "    elif o=='*':\n",
    "        return a*b\n",
    "    elif o=='/':\n",
    "        if b==0:\n",
    "            return \"0 division error\"\n",
    "        return a/b\n",
    "    else:\n",
    "        return \"put correct operator\"\n",
    "    \n",
    "calc(58,'*',8)"
   ]
  },
  {
   "cell_type": "code",
   "execution_count": null,
   "id": "9e46482c",
   "metadata": {},
   "outputs": [],
   "source": []
  }
 ],
 "metadata": {
  "kernelspec": {
   "display_name": "Python 3 (ipykernel)",
   "language": "python",
   "name": "python3"
  },
  "language_info": {
   "codemirror_mode": {
    "name": "ipython",
    "version": 3
   },
   "file_extension": ".py",
   "mimetype": "text/x-python",
   "name": "python",
   "nbconvert_exporter": "python",
   "pygments_lexer": "ipython3",
   "version": "3.9.12"
  }
 },
 "nbformat": 4,
 "nbformat_minor": 5
}
